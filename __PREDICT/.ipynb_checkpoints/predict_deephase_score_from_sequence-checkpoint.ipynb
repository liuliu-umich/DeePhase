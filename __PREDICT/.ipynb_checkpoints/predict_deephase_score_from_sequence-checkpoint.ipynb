{
 "cells": [
  {
   "cell_type": "code",
   "execution_count": 1,
   "id": "creative-regulation",
   "metadata": {},
   "outputs": [],
   "source": [
    "#ENTER YOUR SEQUENCE HERE:\n",
    "test_seq1_FUS = 'MASNDYTQQATQSYGAYPTQPGQGYSQQSSQPYGQQSYSGYSQSTDTSGYGQSSYSSYGQSQNTGYGTQSTPQGYGSTGGYGSSQSSQSSYGQQSSYPGYGQQPAPSSTSGSYGSSSQSSSYGQPQSGSYSQQPSYGGQQQSYGQQQSYNPPQGYGQQNQYNSSSGGGGGGGGGGNYGQDQSSMSSGGGSGGGYGNQDQSGGGGSGGYGQQDRGGRGRGGSGGGGGGGGGGYNRSSGGYEPRGRGGGRGGRGGMGGSDRGGFNKFGGPRDQGSRHDSEQDNSDNNTIFVQGLGENVTIESVADYFKQIGIIKTNKKTGQPMINLYTDRETGKLKGEATVSFDDPPSAKAAIDWFDGKEFSGNPIKVSFATRRADFNRGGGNGRGGRGRGGPMGRGGYGGGGSGGGGRGGFPSGGGGGGGQQRAGDWKCPNPTCENMNFSWRNECNQCKAPKPDGPGGGPGGSHMGGNYGDDRRGGRGGYDRGGYRGRGGDRGGFRGGRGGGDRGGFGPGKMDSRGEHRQDRRERPY'"
   ]
  },
  {
   "cell_type": "code",
   "execution_count": 2,
   "id": "enhanced-peninsula",
   "metadata": {},
   "outputs": [
    {
     "name": "stdout",
     "output_type": "stream",
     "text": [
      "Requirement already satisfied: gensim in h:\\anaconda3\\envs\\catboost\\lib\\site-packages (4.3.3)\n",
      "Requirement already satisfied: numpy<2.0,>=1.18.5 in h:\\anaconda3\\envs\\catboost\\lib\\site-packages (from gensim) (1.26.0)\n",
      "Requirement already satisfied: scipy<1.14.0,>=1.7.0 in h:\\anaconda3\\envs\\catboost\\lib\\site-packages (from gensim) (1.11.3)\n",
      "Requirement already satisfied: smart-open>=1.8.1 in h:\\anaconda3\\envs\\catboost\\lib\\site-packages (from gensim) (7.0.4)\n",
      "Requirement already satisfied: wrapt in h:\\anaconda3\\envs\\catboost\\lib\\site-packages (from smart-open>=1.8.1->gensim) (1.16.0)\n"
     ]
    }
   ],
   "source": [
    "!pip install gensim"
   ]
  },
  {
   "cell_type": "code",
   "execution_count": 3,
   "id": "1f4b1b24-35de-47d0-8450-13ea617c4ac6",
   "metadata": {},
   "outputs": [
    {
     "name": "stdout",
     "output_type": "stream",
     "text": [
      "Requirement already satisfied: biopython in h:\\anaconda3\\envs\\catboost\\lib\\site-packages (1.84)\n",
      "Requirement already satisfied: numpy in h:\\anaconda3\\envs\\catboost\\lib\\site-packages (from biopython) (1.26.0)\n"
     ]
    }
   ],
   "source": [
    "!pip install biopython"
   ]
  },
  {
   "cell_type": "code",
   "execution_count": 4,
   "id": "opposed-emergency",
   "metadata": {},
   "outputs": [],
   "source": [
    "#DO NOT CHANGE ANYTHING IN THIS CELL. MOVE ON TO THE FOLLOWING ONE TO GET THE PREDICTION.\n",
    "\n",
    "\n",
    "import numpy as np\n",
    "from gensim.models import word2vec\n",
    "\n",
    "class ProtVec(word2vec.Word2Vec):\n",
    "\n",
    "    def __init__(self, fasta_fname=None, corpus=None, n=3, size=100, corpus_fname=\"corpus.txt\",  sg=1, window=25, min_count=1, workers=20):\n",
    "        \"\"\"\n",
    "        Either fname or corpus is required.\n",
    "        fasta_fname: fasta file for corpus\n",
    "        corpus: corpus object implemented by gensim\n",
    "        n: n of n-gram\n",
    "        corpus_fname: corpus file path\n",
    "        min_count: least appearance count in corpus. if the n-gram appear k times which is below min_count, the model does not remember the n-gram\n",
    "        \"\"\"\n",
    "\n",
    "        self.n = n\n",
    "        self.size = size\n",
    "        self.fasta_fname = fasta_fname\n",
    "\n",
    "        if corpus is None and fasta_fname is None:\n",
    "            raise Exception(\"Either fasta_fname or corpus is needed!\")\n",
    "\n",
    "        if fasta_fname is not None:\n",
    "            print('Generate Corpus file from fasta file...')\n",
    "            generate_corpusfile(fasta_fname, n, corpus_fname)\n",
    "            corpus = word2vec.Text8Corpus(corpus_fname)\n",
    "\n",
    "        word2vec.Word2Vec.__init__(self, corpus, size=size, sg=sg, window=window, min_count=min_count, workers=workers)\n",
    "\n",
    "    def to_vecs(self, seq):\n",
    "        \"\"\"\n",
    "        convert sequence to three n-length vectors\n",
    "        e.g. 'AGAMQSASM' => [ array([  ... * 100 ], array([  ... * 100 ], array([  ... * 100 ] ]\n",
    "        \"\"\"\n",
    "        ngram_patterns = split_ngrams(seq, self.n)\n",
    "\n",
    "        protvecs = []\n",
    "        for ngrams in ngram_patterns:\n",
    "            ngram_vecs = []\n",
    "            for ngram in ngrams:\n",
    "                try:\n",
    "                    ngram_vecs.append(self.wv[ngram])\n",
    "                except:\n",
    "                    raise Exception(\"Model has never trained this n-gram: \" + ngram)\n",
    "            protvecs.append(sum(ngram_vecs))\n",
    "        return protvecs\n",
    "    \n",
    "    \n",
    "    def get_vector(self, seq):\n",
    "        \"\"\"\n",
    "        sum and normalize the three n-length vectors returned by self.to_vecs\n",
    "        \"\"\"\n",
    "        #return normalize(sum(self.to_vecs(seq)))\n",
    "        return sum(self.to_vecs(seq))\n",
    "\n",
    "    \n",
    "def load_protvec(model_fname):\n",
    "    return word2vec.Word2Vec.load(model_fname)\n",
    "\n",
    "pv = load_protvec('tools/Embeddings/swissprot_size200_window25.model')\n",
    "\n",
    "SEED = 42\n",
    "np.random.seed(SEED)\n",
    "\n",
    "\n",
    "from deephase_utils import *\n",
    "\n"
   ]
  },
  {
   "cell_type": "code",
   "execution_count": null,
   "id": "legendary-welding",
   "metadata": {},
   "outputs": [],
   "source": []
  },
  {
   "cell_type": "code",
   "execution_count": null,
   "id": "digital-exploration",
   "metadata": {},
   "outputs": [],
   "source": []
  },
  {
   "cell_type": "code",
   "execution_count": null,
   "id": "herbal-traffic",
   "metadata": {},
   "outputs": [],
   "source": []
  },
  {
   "cell_type": "code",
   "execution_count": 5,
   "id": "smaller-husband",
   "metadata": {},
   "outputs": [
    {
     "ename": "NameError",
     "evalue": "name 'f_LCR' is not defined",
     "output_type": "error",
     "traceback": [
      "\u001b[1;31m---------------------------------------------------------------------------\u001b[0m",
      "\u001b[1;31mNameError\u001b[0m                                 Traceback (most recent call last)",
      "Cell \u001b[1;32mIn[5], line 4\u001b[0m\n\u001b[0;32m      1\u001b[0m \u001b[38;5;66;03m#PREDICTION:\u001b[39;00m\n\u001b[0;32m      3\u001b[0m df \u001b[38;5;241m=\u001b[39m pd\u001b[38;5;241m.\u001b[39mDataFrame({\u001b[38;5;124m'\u001b[39m\u001b[38;5;124msequence_final\u001b[39m\u001b[38;5;124m'\u001b[39m: [test_seq1_FUS]})\n\u001b[1;32m----> 4\u001b[0m \u001b[43mDeePhase\u001b[49m\u001b[43m(\u001b[49m\u001b[43mdf\u001b[49m\u001b[43m)\u001b[49m\n",
      "File \u001b[1;32m~\\DeePhase\\DeePhase\\__PREDICT\\deephase_utils.py:373\u001b[0m, in \u001b[0;36mDeePhase\u001b[1;34m(df_of_sequences)\u001b[0m\n\u001b[0;32m    371\u001b[0m \u001b[38;5;28;01mdef\u001b[39;00m \u001b[38;5;21mDeePhase\u001b[39m(df_of_sequences):\n\u001b[1;32m--> 373\u001b[0m     data_interm \u001b[38;5;241m=\u001b[39m \u001b[43mcreate_features\u001b[49m\u001b[43m(\u001b[49m\u001b[43mdf_of_sequences\u001b[49m\u001b[43m)\u001b[49m\n\u001b[0;32m    374\u001b[0m     w2v_cols \u001b[38;5;241m=\u001b[39m data_interm\u001b[38;5;241m.\u001b[39mcolumns[[\u001b[38;5;28mstr\u001b[39m(col)\u001b[38;5;241m.\u001b[39misdigit() \u001b[38;5;28;01mfor\u001b[39;00m col \u001b[38;5;129;01min\u001b[39;00m data_interm\u001b[38;5;241m.\u001b[39mcolumns]]\n\u001b[0;32m    375\u001b[0m     w2v_cols \u001b[38;5;241m=\u001b[39m [\u001b[38;5;28mint\u001b[39m(x) \u001b[38;5;28;01mfor\u001b[39;00m x \u001b[38;5;129;01min\u001b[39;00m w2v_cols]\n",
      "File \u001b[1;32m~\\DeePhase\\DeePhase\\__PREDICT\\deephase_utils.py:279\u001b[0m, in \u001b[0;36mcreate_features\u001b[1;34m(df)\u001b[0m\n\u001b[0;32m    277\u001b[0m \u001b[38;5;28;01mdef\u001b[39;00m \u001b[38;5;21mcreate_features\u001b[39m(df):\n\u001b[0;32m    278\u001b[0m     df[\u001b[38;5;124m'\u001b[39m\u001b[38;5;124mSequence_length\u001b[39m\u001b[38;5;124m'\u001b[39m] \u001b[38;5;241m=\u001b[39m df[\u001b[38;5;124m'\u001b[39m\u001b[38;5;124msequence_final\u001b[39m\u001b[38;5;124m'\u001b[39m]\u001b[38;5;241m.\u001b[39mstr\u001b[38;5;241m.\u001b[39mlen()\n\u001b[1;32m--> 279\u001b[0m     df[\u001b[38;5;124m'\u001b[39m\u001b[38;5;124mLCR_frac\u001b[39m\u001b[38;5;124m'\u001b[39m] \u001b[38;5;241m=\u001b[39m \u001b[43m[\u001b[49m\u001b[43mextract_LCR\u001b[49m\u001b[43m(\u001b[49m\u001b[43mseq\u001b[49m\u001b[43m)\u001b[49m\u001b[43m[\u001b[49m\u001b[38;5;241;43m0\u001b[39;49m\u001b[43m]\u001b[49m\u001b[43m \u001b[49m\u001b[38;5;28;43;01mfor\u001b[39;49;00m\u001b[43m \u001b[49m\u001b[43mseq\u001b[49m\u001b[43m \u001b[49m\u001b[38;5;129;43;01min\u001b[39;49;00m\u001b[43m \u001b[49m\u001b[43mdf\u001b[49m\u001b[43m[\u001b[49m\u001b[38;5;124;43m'\u001b[39;49m\u001b[38;5;124;43msequence_final\u001b[39;49m\u001b[38;5;124;43m'\u001b[39;49m\u001b[43m]\u001b[49m\u001b[43m]\u001b[49m \u001b[38;5;241m/\u001b[39m df[\u001b[38;5;124m'\u001b[39m\u001b[38;5;124mSequence_length\u001b[39m\u001b[38;5;124m'\u001b[39m]\n\u001b[0;32m    280\u001b[0m     df[\u001b[38;5;124m'\u001b[39m\u001b[38;5;124mLCR_sequence\u001b[39m\u001b[38;5;124m'\u001b[39m] \u001b[38;5;241m=\u001b[39m [extract_LCR(seq)[\u001b[38;5;241m1\u001b[39m] \u001b[38;5;28;01mfor\u001b[39;00m seq \u001b[38;5;129;01min\u001b[39;00m df[\u001b[38;5;124m'\u001b[39m\u001b[38;5;124msequence_final\u001b[39m\u001b[38;5;124m'\u001b[39m]]\n\u001b[0;32m    281\u001b[0m     df[\u001b[38;5;124m'\u001b[39m\u001b[38;5;124mLCR_length\u001b[39m\u001b[38;5;124m'\u001b[39m] \u001b[38;5;241m=\u001b[39m df[\u001b[38;5;124m'\u001b[39m\u001b[38;5;124mLCR_sequence\u001b[39m\u001b[38;5;124m'\u001b[39m]\u001b[38;5;241m.\u001b[39mstr\u001b[38;5;241m.\u001b[39mlen()\n",
      "File \u001b[1;32m~\\DeePhase\\DeePhase\\__PREDICT\\deephase_utils.py:279\u001b[0m, in \u001b[0;36m<listcomp>\u001b[1;34m(.0)\u001b[0m\n\u001b[0;32m    277\u001b[0m \u001b[38;5;28;01mdef\u001b[39;00m \u001b[38;5;21mcreate_features\u001b[39m(df):\n\u001b[0;32m    278\u001b[0m     df[\u001b[38;5;124m'\u001b[39m\u001b[38;5;124mSequence_length\u001b[39m\u001b[38;5;124m'\u001b[39m] \u001b[38;5;241m=\u001b[39m df[\u001b[38;5;124m'\u001b[39m\u001b[38;5;124msequence_final\u001b[39m\u001b[38;5;124m'\u001b[39m]\u001b[38;5;241m.\u001b[39mstr\u001b[38;5;241m.\u001b[39mlen()\n\u001b[1;32m--> 279\u001b[0m     df[\u001b[38;5;124m'\u001b[39m\u001b[38;5;124mLCR_frac\u001b[39m\u001b[38;5;124m'\u001b[39m] \u001b[38;5;241m=\u001b[39m [\u001b[43mextract_LCR\u001b[49m\u001b[43m(\u001b[49m\u001b[43mseq\u001b[49m\u001b[43m)\u001b[49m[\u001b[38;5;241m0\u001b[39m] \u001b[38;5;28;01mfor\u001b[39;00m seq \u001b[38;5;129;01min\u001b[39;00m df[\u001b[38;5;124m'\u001b[39m\u001b[38;5;124msequence_final\u001b[39m\u001b[38;5;124m'\u001b[39m]] \u001b[38;5;241m/\u001b[39m df[\u001b[38;5;124m'\u001b[39m\u001b[38;5;124mSequence_length\u001b[39m\u001b[38;5;124m'\u001b[39m]\n\u001b[0;32m    280\u001b[0m     df[\u001b[38;5;124m'\u001b[39m\u001b[38;5;124mLCR_sequence\u001b[39m\u001b[38;5;124m'\u001b[39m] \u001b[38;5;241m=\u001b[39m [extract_LCR(seq)[\u001b[38;5;241m1\u001b[39m] \u001b[38;5;28;01mfor\u001b[39;00m seq \u001b[38;5;129;01min\u001b[39;00m df[\u001b[38;5;124m'\u001b[39m\u001b[38;5;124msequence_final\u001b[39m\u001b[38;5;124m'\u001b[39m]]\n\u001b[0;32m    281\u001b[0m     df[\u001b[38;5;124m'\u001b[39m\u001b[38;5;124mLCR_length\u001b[39m\u001b[38;5;124m'\u001b[39m] \u001b[38;5;241m=\u001b[39m df[\u001b[38;5;124m'\u001b[39m\u001b[38;5;124mLCR_sequence\u001b[39m\u001b[38;5;124m'\u001b[39m]\u001b[38;5;241m.\u001b[39mstr\u001b[38;5;241m.\u001b[39mlen()\n",
      "File \u001b[1;32m~\\DeePhase\\DeePhase\\__PREDICT\\deephase_utils.py:54\u001b[0m, in \u001b[0;36mextract_LCR\u001b[1;34m(seq)\u001b[0m\n\u001b[0;32m     50\u001b[0m \u001b[38;5;28;01mdef\u001b[39;00m \u001b[38;5;21mextract_LCR\u001b[39m(seq):\n\u001b[0;32m     51\u001b[0m     \u001b[38;5;66;03m# tmp_LCR = tempfile.NamedTemporaryFile()  \u001b[39;00m\n\u001b[0;32m     52\u001b[0m     \u001b[38;5;66;03m# with open(tmp_LCR.name, 'w') as f_LCR:\u001b[39;00m\n\u001b[0;32m     53\u001b[0m     \u001b[38;5;28;01mwith\u001b[39;00m tempfile\u001b[38;5;241m.\u001b[39mNamedTemporaryFile(delete\u001b[38;5;241m=\u001b[39m\u001b[38;5;28;01mFalse\u001b[39;00m, mode\u001b[38;5;241m=\u001b[39m\u001b[38;5;124m'\u001b[39m\u001b[38;5;124mw\u001b[39m\u001b[38;5;124m'\u001b[39m, \u001b[38;5;28mdir\u001b[39m\u001b[38;5;241m=\u001b[39m\u001b[38;5;124m'\u001b[39m\u001b[38;5;124mC:\u001b[39m\u001b[38;5;130;01m\\\\\u001b[39;00m\u001b[38;5;124mUsers\u001b[39m\u001b[38;5;130;01m\\\\\u001b[39;00m\u001b[38;5;124mLuVul\u001b[39m\u001b[38;5;130;01m\\\\\u001b[39;00m\u001b[38;5;124mAppData\u001b[39m\u001b[38;5;130;01m\\\\\u001b[39;00m\u001b[38;5;124mLocal\u001b[39m\u001b[38;5;130;01m\\\\\u001b[39;00m\u001b[38;5;124mTemp\u001b[39m\u001b[38;5;124m'\u001b[39m) \u001b[38;5;28;01mas\u001b[39;00m tmp_LCR:    \n\u001b[1;32m---> 54\u001b[0m          \u001b[43mf_LCR\u001b[49m\u001b[38;5;241m.\u001b[39mwrite(\u001b[38;5;124m'\u001b[39m\u001b[38;5;124m>1\u001b[39m\u001b[38;5;130;01m\\n\u001b[39;00m\u001b[38;5;124m'\u001b[39m \u001b[38;5;241m+\u001b[39m \u001b[38;5;28mstr\u001b[39m(seq))\n\u001b[0;32m     55\u001b[0m     tmp_LCR\u001b[38;5;241m.\u001b[39mseek(\u001b[38;5;241m0\u001b[39m)\n\u001b[0;32m     57\u001b[0m     out \u001b[38;5;241m=\u001b[39m subprocess\u001b[38;5;241m.\u001b[39mPopen([\u001b[38;5;124m'\u001b[39m\u001b[38;5;124msegmasker\u001b[39m\u001b[38;5;124m'\u001b[39m, \u001b[38;5;124m'\u001b[39m\u001b[38;5;124m-in\u001b[39m\u001b[38;5;124m'\u001b[39m, \u001b[38;5;28mstr\u001b[39m(tmp_LCR\u001b[38;5;241m.\u001b[39mname)], \n\u001b[0;32m     58\u001b[0m            stdout\u001b[38;5;241m=\u001b[39msubprocess\u001b[38;5;241m.\u001b[39mPIPE, stderr\u001b[38;5;241m=\u001b[39msubprocess\u001b[38;5;241m.\u001b[39mSTDOUT)\n",
      "\u001b[1;31mNameError\u001b[0m: name 'f_LCR' is not defined"
     ]
    }
   ],
   "source": [
    "#PREDICTION:\n",
    "\n",
    "df = pd.DataFrame({'sequence_final': [test_seq1_FUS]})\n",
    "DeePhase(df)"
   ]
  },
  {
   "cell_type": "code",
   "execution_count": null,
   "id": "sought-template",
   "metadata": {},
   "outputs": [],
   "source": []
  },
  {
   "cell_type": "code",
   "execution_count": null,
   "id": "polished-leader",
   "metadata": {},
   "outputs": [],
   "source": []
  },
  {
   "cell_type": "code",
   "execution_count": null,
   "id": "mature-exhaust",
   "metadata": {},
   "outputs": [],
   "source": []
  },
  {
   "cell_type": "code",
   "execution_count": null,
   "id": "pleasant-bhutan",
   "metadata": {},
   "outputs": [],
   "source": []
  },
  {
   "cell_type": "code",
   "execution_count": null,
   "id": "civilian-opera",
   "metadata": {},
   "outputs": [],
   "source": []
  },
  {
   "cell_type": "code",
   "execution_count": null,
   "id": "early-flour",
   "metadata": {},
   "outputs": [],
   "source": []
  },
  {
   "cell_type": "code",
   "execution_count": null,
   "id": "modern-neighborhood",
   "metadata": {},
   "outputs": [],
   "source": []
  },
  {
   "cell_type": "code",
   "execution_count": null,
   "id": "spectacular-casting",
   "metadata": {},
   "outputs": [],
   "source": []
  }
 ],
 "metadata": {
  "kernelspec": {
   "display_name": "Python 3 (ipykernel)",
   "language": "python",
   "name": "python3"
  },
  "language_info": {
   "codemirror_mode": {
    "name": "ipython",
    "version": 3
   },
   "file_extension": ".py",
   "mimetype": "text/x-python",
   "name": "python",
   "nbconvert_exporter": "python",
   "pygments_lexer": "ipython3",
   "version": "3.11.6"
  }
 },
 "nbformat": 4,
 "nbformat_minor": 5
}
